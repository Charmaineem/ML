{
  "nbformat": 4,
  "nbformat_minor": 0,
  "metadata": {
    "colab": {
      "provenance": [],
      "gpuType": "T4",
      "authorship_tag": "ABX9TyPV1GR4Ef1iJ1FxT7mlQSdf",
      "include_colab_link": true
    },
    "kernelspec": {
      "name": "python3",
      "display_name": "Python 3"
    },
    "language_info": {
      "name": "python"
    },
    "accelerator": "GPU"
  },
  "cells": [
    {
      "cell_type": "markdown",
      "metadata": {
        "id": "view-in-github",
        "colab_type": "text"
      },
      "source": [
        "<a href=\"https://colab.research.google.com/github/Charmaineem/ML/blob/main/Handwritten_digits_using_Logistic_Regression_PyTorch.ipynb\" target=\"_parent\"><img src=\"https://colab.research.google.com/assets/colab-badge.svg\" alt=\"Open In Colab\"/></a>"
      ]
    },
    {
      "cell_type": "markdown",
      "source": [
        "## Logistic Regression Classifier in PyTorch\n",
        "\n",
        "![mnist](data:image/png;base64,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)"
      ],
      "metadata": {
        "id": "J4l7sG0t2gsj"
      }
    },
    {
      "cell_type": "markdown",
      "source": [
        "In this project, I will use PyTorch to build a classifier capable of identifying handwritten digits from the [MNIST dataset](https://pytorch.org/vision/main/generated/torchvision.datasets.MNIST.html). The MNIST dataset is a benchmark dataset for image classification and contains 60,000 training samples and 10,000 test samples, each consisting of 28x28 grayscale images of handwritten digits (0-9).\n",
        "\n",
        "Before diving into building the classifier, let's briefly cover an essential concept in machine learning that we’ll use in this project: logistic regression.\n",
        "\n",
        "### Logistic Regression\n",
        "Logistic regression is a supervised machine learning algorithm used primarily for binary classification tasks, but it can be extended for multiclass classification, as in our MNIST project. Logistic regression uses the sigmoid function to map predicted values to a probability range between 0 and 1, allowing it to output the likelihood of a particular class label."
      ],
      "metadata": {
        "id": "u9HqwjLWNvIW"
      }
    },
    {
      "cell_type": "markdown",
      "source": [
        "#### **Step 1**: Data preparation\n",
        "\n",
        "First, we need to load the MNIST dataset. PyTorch provides a convenient way to download and transform this dataset via the torchvision.datasets module. Here are the key parameters for loading the dataset:\n",
        "\n",
        "1. root: The path where data will be stored.\n",
        "2. train: Boolean indicating whether to load the training set (True) or test set (False).\n",
        "3. download: Boolean indicating whether to download the dataset if it’s not already available in the specified root directory.\n",
        "4. transform: An optional parameter to specify transformations that should be applied to the images, such as scaling, normalization, or conversion to tensors."
      ],
      "metadata": {
        "id": "qyj-QbFmV4cN"
      }
    },
    {
      "cell_type": "code",
      "execution_count": 25,
      "metadata": {
        "id": "Q-3OUpwa2d9m"
      },
      "outputs": [],
      "source": [
        "import torch\n",
        "from torchvision import datasets, transforms\n",
        "from torch.utils.data import DataLoader\n",
        "import matplotlib.pyplot as plt\n",
        "from torch import nn\n",
        "from torch import optim\n",
        "from torch.autograd import Variable"
      ]
    },
    {
      "cell_type": "code",
      "source": [
        "train_dataset = datasets.MNIST(\n",
        "    root='data',\n",
        "    download=True,\n",
        "    train=True,\n",
        "    transform=transforms.ToTensor()\n",
        ")\n",
        "\n",
        "test_dataset = datasets.MNIST(\n",
        "    root='data',\n",
        "    download=True,\n",
        "    train=False,\n",
        "    transform=transforms.ToTensor()\n",
        ")"
      ],
      "metadata": {
        "id": "QxGgsOe23SZB"
      },
      "execution_count": 40,
      "outputs": []
    },
    {
      "cell_type": "code",
      "source": [
        "print(f'The trainset has {len(train_dataset)} samples')\n",
        "print(f'The testset has {len(test_dataset)} samples')"
      ],
      "metadata": {
        "colab": {
          "base_uri": "https://localhost:8080/"
        },
        "id": "dTcxPIP4GtJV",
        "outputId": "65df07c5-4064-4516-c1c8-8262e26835f1"
      },
      "execution_count": 15,
      "outputs": [
        {
          "output_type": "stream",
          "name": "stdout",
          "text": [
            "The trainset has 60000 samples\n",
            "The testset has 10000 samples\n"
          ]
        }
      ]
    },
    {
      "cell_type": "markdown",
      "source": [
        "Here, I am using DataLoader to create an iterable wrapper around the dataset, which simplifies the process of accessing and managing data samples in batches."
      ],
      "metadata": {
        "id": "08TqdzWljpNm"
      }
    },
    {
      "cell_type": "code",
      "source": [
        "batch_size = 64\n",
        "\n",
        "train_dataloader = DataLoader(train_dataset, batch_size=batch_size, shuffle=True)\n",
        "test_dataloader = DataLoader(test_dataset, batch_size=batch_size, shuffle=True)"
      ],
      "metadata": {
        "id": "fQSRqPNN4hoe"
      },
      "execution_count": 16,
      "outputs": []
    },
    {
      "cell_type": "markdown",
      "source": [
        "By iterating over the test_dataloader, we can examine the structure of the data batches provided to the model. Let’s look at the output dimensions for a single batch of images and labels:\n",
        "\n",
        "- 64 images in the batch: This batch size, defined during DataLoader setup, means we’re processing 64 images at a time.\n",
        "- 1 input channel: Each image has a single color channel, indicating it’s a grayscale image rather than a color image with RGB channels.\n",
        "- 28 pixels for both height and width: Each image is 28x28 pixels, consistent with the standard MNIST dimensions.\n"
      ],
      "metadata": {
        "id": "IpwM3Zl2kUKT"
      }
    },
    {
      "cell_type": "code",
      "source": [
        "for X, y in test_dataloader:\n",
        "  print(f'{X.shape}')\n",
        "  print(f'{y.shape}')\n",
        "  break\n"
      ],
      "metadata": {
        "colab": {
          "base_uri": "https://localhost:8080/"
        },
        "id": "7YqC6QO3HCdp",
        "outputId": "0b53ed61-b020-496a-e6b4-8e6443b4fd79"
      },
      "execution_count": 17,
      "outputs": [
        {
          "output_type": "stream",
          "name": "stdout",
          "text": [
            "torch.Size([64, 1, 28, 28])\n",
            "torch.Size([64])\n"
          ]
        }
      ]
    },
    {
      "cell_type": "markdown",
      "source": [
        "#### **Step 2**: Visualize the Data (Optional)\n",
        "\n",
        "To better understand the data, let’s visualize some sample images and their corresponding labels. Let's take a look at the first image."
      ],
      "metadata": {
        "id": "164yoKvOoOSr"
      }
    },
    {
      "cell_type": "code",
      "source": [
        "img = train_dataset[0][0].numpy().reshape(28, 28)\n",
        "plt.imshow(img, cmap='gray_r')"
      ],
      "metadata": {
        "colab": {
          "base_uri": "https://localhost:8080/",
          "height": 448
        },
        "id": "w18xmiRML7KS",
        "outputId": "7c66126e-743f-4240-f1ec-add7f1dc63ae"
      },
      "execution_count": 18,
      "outputs": [
        {
          "output_type": "execute_result",
          "data": {
            "text/plain": [
              "<matplotlib.image.AxesImage at 0x7906f559c880>"
            ]
          },
          "metadata": {},
          "execution_count": 18
        },
        {
          "output_type": "display_data",
          "data": {
            "text/plain": [
              "<Figure size 640x480 with 1 Axes>"
            ],
            "image/png": "[encoded data removed]"
          },
          "metadata": {}
        }
      ]
    },
    {
      "cell_type": "markdown",
      "source": [
        "#### **Step 3**: Define the Neural Network Model\n",
        "\n",
        "We will define a simple logistic regression model by creating a class that inherits from nn.Module. Logistic regression, in this case, serves as a linear classifier that directly maps input image features to the output classes using a fully connected layer. This model is suitable for classification tasks like MNIST digit recognition, where each input image belongs to one of 10 digit classes (0–9).\n",
        "\n",
        "Key parameters for the model:\n",
        "\n",
        "- input_size = 784: Since each image is 28x28 pixels, we flatten it to a 784-dimensional vector (28 × 28 = 784).\n",
        "- num_classes = 10: The number of output classes, representing digits from 0 to 9.\n",
        "- num_epochs = 5: The number of times we’ll iterate through the entire training dataset.\n",
        "- learning_rate = 0.001: The rate at which the model updates its weights during training."
      ],
      "metadata": {
        "id": "rbJS85hhlEak"
      }
    },
    {
      "cell_type": "code",
      "source": [
        "input_size = 784\n",
        "num_classes = 10\n",
        "num_epochs = 5\n",
        "learning_rate = 0.001"
      ],
      "metadata": {
        "id": "WBpXmfrs7gzd"
      },
      "execution_count": 19,
      "outputs": []
    },
    {
      "cell_type": "code",
      "source": [
        "class LogisticRegression(nn.Module):\n",
        "  def __init__(self,input_size,num_classes):\n",
        "    super(LogisticRegression,self).__init__()\n",
        "    self.linear = nn.Linear(input_size,num_classes)\n",
        "\n",
        "  def forward(self, x):\n",
        "    out = self.linear(x)\n",
        "    return out"
      ],
      "metadata": {
        "id": "P3MwbKWT78Pg"
      },
      "execution_count": 27,
      "outputs": []
    },
    {
      "cell_type": "markdown",
      "source": [
        "#### **Step 4**: Training and Evaluation\n",
        "\n",
        "We will train the logistic regression model using the training dataset and then evaluate its performance on the test dataset. We will use the cross-entropy loss as our loss function and Stochastic Gradient Descent (SGD) as our optimizer."
      ],
      "metadata": {
        "id": "m0jYrtnLmBtC"
      }
    },
    {
      "cell_type": "code",
      "source": [
        "model = LogisticRegression(input_size, num_classes)\n",
        "criterion = nn.CrossEntropyLoss()\n",
        "optimizer = optim.SGD(model.parameters(), lr = learning_rate)\n"
      ],
      "metadata": {
        "id": "7YeWkmEKa9aW"
      },
      "execution_count": 28,
      "outputs": []
    },
    {
      "cell_type": "code",
      "source": [
        "total = 0\n",
        "correct= 0\n",
        "\n",
        "for epoch in range(num_epochs):\n",
        "  for i, (images,labels) in enumerate(train_dataloader):\n",
        "    optimizer.zero_grad()\n",
        "    outputs = model(images.reshape(-1, 28*28))\n",
        "    loss = criterion(outputs, labels)\n",
        "    loss.backward()\n",
        "    optimizer.step()\n",
        "\n",
        "  for i, (images,labels) in enumerate(test_dataloader):\n",
        "    outputs = model(images.reshape(-1,28*28))\n",
        "    _, predicted = torch.max(outputs.data,1)\n",
        "    total += labels.size(0)\n",
        "    correct += (predicted == labels).sum()\n",
        "\n",
        "  accuracy = correct/total * 100\n",
        "  print('Epoch: {}. Loss: {}. Accuracy: {}.'.format(epoch+1, loss.item(), accuracy))"
      ],
      "metadata": {
        "colab": {
          "base_uri": "https://localhost:8080/"
        },
        "id": "9rq_k86zblce",
        "outputId": "79a44cb7-7114-4fa1-d4eb-5ea9704a6023"
      },
      "execution_count": 39,
      "outputs": [
        {
          "output_type": "stream",
          "name": "stdout",
          "text": [
            "Epoch: 1. Loss: 0.4704495370388031. Accuracy: 88.16999816894531.\n",
            "Epoch: 2. Loss: 0.6268007159233093. Accuracy: 88.20499420166016.\n",
            "Epoch: 3. Loss: 0.5869386196136475. Accuracy: 88.25666809082031.\n",
            "Epoch: 4. Loss: 0.5308238863945007. Accuracy: 88.30000305175781.\n",
            "Epoch: 5. Loss: 0.8960478901863098. Accuracy: 88.33799743652344.\n"
          ]
        }
      ]
    },
    {
      "cell_type": "markdown",
      "source": [
        "After training the model for five epochs, we achieved an accuracy of 88% on the test set, demonstrating the effectiveness of logistic regression for this classification task."
      ],
      "metadata": {
        "id": "mqY84e5CmKMQ"
      }
    },
    {
      "cell_type": "code",
      "source": [],
      "metadata": {
        "id": "xKI1MrwerZyp"
      },
      "execution_count": null,
      "outputs": []
    }
  ]
}