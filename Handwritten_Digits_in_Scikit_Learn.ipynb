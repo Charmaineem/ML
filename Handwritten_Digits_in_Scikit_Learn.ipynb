{
  "nbformat": 4,
  "nbformat_minor": 0,
  "metadata": {
    "colab": {
      "provenance": [],
      "authorship_tag": "ABX9TyNUDz+pWGrPEUbzCNO2c01D",
      "include_colab_link": true
    },
    "kernelspec": {
      "name": "python3",
      "display_name": "Python 3"
    },
    "language_info": {
      "name": "python"
    }
  },
  "cells": [
    {
      "cell_type": "markdown",
      "metadata": {
        "id": "view-in-github",
        "colab_type": "text"
      },
      "source": [
        "<a href=\"https://colab.research.google.com/github/Charmaineem/ML/blob/main/Handwritten_Digits_in_Scikit_Learn.ipynb\" target=\"_parent\"><img src=\"https://colab.research.google.com/assets/colab-badge.svg\" alt=\"Open In Colab\"/></a>"
      ]
    },
    {
      "cell_type": "markdown",
      "source": [
        "### Recognising Handwritten digits\n",
        "\n",
        "I trained a MLP on a handwritten digits [dataset](https://scikit-learn.org/1.5/modules/generated/sklearn.datasets.load_digits.html) and got 91.4% accuracy\n",
        "\n",
        "I used\n",
        "- Matplotlib\n",
        "- Scikit Learn"
      ],
      "metadata": {
        "id": "O0oV3gZZ0F8d"
      }
    },
    {
      "cell_type": "code",
      "source": [
        "import sklearn\n",
        "from sklearn.datasets import load_digits\n",
        "import matplotlib.pyplot as plt\n",
        "from sklearn.neural_network import MLPClassifier\n",
        "from sklearn.metrics import accuracy_score"
      ],
      "metadata": {
        "id": "FHvKKRWL0OWB"
      },
      "execution_count": 55,
      "outputs": []
    },
    {
      "cell_type": "markdown",
      "source": [
        "**Step 1**: Load dataset\n",
        "\n",
        "Loading the digits dataset using load_digits()\n",
        "\n",
        "The dataset contains 1797 samples (rows) and each has 64 features (columns)\n",
        "\n",
        "Printing some samples using Matplotlib\n"
      ],
      "metadata": {
        "id": "N0C8u16CI5IH"
      }
    },
    {
      "cell_type": "code",
      "source": [
        "dataset = load_digits()\n",
        "print(dataset.data.shape)"
      ],
      "metadata": {
        "colab": {
          "base_uri": "https://localhost:8080/"
        },
        "id": "jPJN5p3i0_uL",
        "outputId": "2e55ddad-39ad-4120-cce1-4a42acc1eb59"
      },
      "execution_count": 10,
      "outputs": [
        {
          "output_type": "stream",
          "name": "stdout",
          "text": [
            "(1797, 64)\n"
          ]
        }
      ]
    },
    {
      "cell_type": "code",
      "source": [
        "dir(dataset)"
      ],
      "metadata": {
        "colab": {
          "base_uri": "https://localhost:8080/"
        },
        "id": "9ZbdIwhp1T4B",
        "outputId": "f820bce8-219c-42e6-b835-b4e4c9679c56"
      },
      "execution_count": 11,
      "outputs": [
        {
          "output_type": "execute_result",
          "data": {
            "text/plain": [
              "['DESCR', 'data', 'feature_names', 'frame', 'images', 'target', 'target_names']"
            ]
          },
          "metadata": {},
          "execution_count": 11
        }
      ]
    },
    {
      "cell_type": "code",
      "source": [
        "# each image is 8x8\n",
        "dataset.images[0].shape\n",
        "# why does dataset.images() not work? It is an attribute of dataset not a function that can be called"
      ],
      "metadata": {
        "colab": {
          "base_uri": "https://localhost:8080/"
        },
        "id": "D8QHwB2T1w3q",
        "outputId": "10e356e3-6dee-49a0-a332-f1f9a03a3af7"
      },
      "execution_count": 18,
      "outputs": [
        {
          "output_type": "execute_result",
          "data": {
            "text/plain": [
              "(8, 8)"
            ]
          },
          "metadata": {},
          "execution_count": 18
        }
      ]
    },
    {
      "cell_type": "code",
      "source": [
        "for i in range(4):\n",
        "    for j in range(4):\n",
        "        plt.subplot(4, 4, i * 4 + j + 1)\n",
        "        plt.imshow(dataset.images[i * 4 + j])\n",
        "        plt.title(dataset.target[i * 4 + j])\n"
      ],
      "metadata": {
        "colab": {
          "base_uri": "https://localhost:8080/",
          "height": 452
        },
        "id": "_qjA-MiA2RPK",
        "outputId": "85815149-7016-4c4c-bf18-54be289ac92a"
      },
      "execution_count": 34,
      "outputs": [
        {
          "output_type": "display_data",
          "data": {
            "text/plain": [
              "<Figure size 640x480 with 16 Axes>"
            ],
            "image/png": "[encoded data removed]"
          },
          "metadata": {}
        }
      ]
    },
    {
      "cell_type": "markdown",
      "source": [
        "**Step 2**: Data Processing\n",
        "\n",
        "2.1 Assign x and y variables\n",
        "- x samples should be flattened as the MLP expects 1D input samples\n",
        "\n",
        "2.2 Splitting the data into the train set with 1000 samples and 797 test samples\n"
      ],
      "metadata": {
        "id": "uDSPHulALdG_"
      }
    },
    {
      "cell_type": "code",
      "source": [
        "y = dataset.target\n",
        "x = dataset.data.reshape(len(dataset.data), -1)\n",
        "#The -1 is a special value in reshape that allows the library to automatically infer the correct number of columns based on the total number of elements and the specified row count. Essentially, it means \"figure out this dimension for me.\"\n",
        "print(x.shape)"
      ],
      "metadata": {
        "colab": {
          "base_uri": "https://localhost:8080/"
        },
        "id": "225tPd805Pe6",
        "outputId": "dd6c5389-3802-4e27-db71-0510c271f07e"
      },
      "execution_count": 36,
      "outputs": [
        {
          "output_type": "stream",
          "name": "stdout",
          "text": [
            "(1797, 64)\n"
          ]
        }
      ]
    },
    {
      "cell_type": "code",
      "source": [
        "#image has been flattened from 8x8 to 1D\n",
        "x[0].shape"
      ],
      "metadata": {
        "colab": {
          "base_uri": "https://localhost:8080/"
        },
        "id": "panF-J9L70OR",
        "outputId": "b32834ae-888a-486e-d03c-55626d7ad30b"
      },
      "execution_count": 41,
      "outputs": [
        {
          "output_type": "execute_result",
          "data": {
            "text/plain": [
              "(64,)"
            ]
          },
          "metadata": {},
          "execution_count": 41
        }
      ]
    },
    {
      "cell_type": "code",
      "source": [
        "trainset = x[:1000]\n",
        "testset = x[1000:]\n",
        "\n",
        "trainlabel = y[:1000]\n",
        "testlabel = y[1000:]"
      ],
      "metadata": {
        "id": "nhQm3nHi76Oe"
      },
      "execution_count": 43,
      "outputs": []
    },
    {
      "cell_type": "markdown",
      "source": [
        "**Step 3**: Defining the Neural network and Train\n",
        "\n",
        "Using a multi-layer perceptron which uses logistic activation function and  stochastic gradient descent"
      ],
      "metadata": {
        "id": "MCJ2HFA5NcDB"
      }
    },
    {
      "cell_type": "code",
      "source": [
        "mlp = MLPClassifier(hidden_layer_sizes=(15,),\n",
        "                    activation='logistic', #activation for the hidden layers\n",
        "                    alpha=1e-4, solver='sgd', # solver for weight optimization, uses stochastic gradient descent\n",
        "                    tol=1e-4, random_state=1,\n",
        "                    learning_rate_init=.1,\n",
        "                    verbose=True)\n",
        "\n",
        "mlp.fit(trainset, trainlabel)\n",
        "\n"
      ],
      "metadata": {
        "colab": {
          "base_uri": "https://localhost:8080/",
          "height": 1000
        },
        "id": "w10zpwLV-Sk_",
        "outputId": "a4f93d98-7fb5-45c1-c3cc-e216ee9a649d"
      },
      "execution_count": 46,
      "outputs": [
        {
          "output_type": "stream",
          "name": "stdout",
          "text": [
            "Iteration 1, loss = 2.22958289\n",
            "Iteration 2, loss = 1.91207743\n",
            "Iteration 3, loss = 1.62507727\n",
            "Iteration 4, loss = 1.32649842\n",
            "Iteration 5, loss = 1.06100535\n",
            "Iteration 6, loss = 0.83995513\n",
            "Iteration 7, loss = 0.67806075\n",
            "Iteration 8, loss = 0.55175832\n",
            "Iteration 9, loss = 0.45840445\n",
            "Iteration 10, loss = 0.39149735\n",
            "Iteration 11, loss = 0.33676351\n",
            "Iteration 12, loss = 0.29059880\n",
            "Iteration 13, loss = 0.25437208\n",
            "Iteration 14, loss = 0.22838372\n",
            "Iteration 15, loss = 0.20200554\n",
            "Iteration 16, loss = 0.18186565\n",
            "Iteration 17, loss = 0.16461183\n",
            "Iteration 18, loss = 0.14990228\n",
            "Iteration 19, loss = 0.13892154\n",
            "Iteration 20, loss = 0.12833784\n",
            "Iteration 21, loss = 0.12138920\n",
            "Iteration 22, loss = 0.11407971\n",
            "Iteration 23, loss = 0.10677664\n",
            "Iteration 24, loss = 0.10037149\n",
            "Iteration 25, loss = 0.09593187\n",
            "Iteration 26, loss = 0.09250135\n",
            "Iteration 27, loss = 0.08676698\n",
            "Iteration 28, loss = 0.08356043\n",
            "Iteration 29, loss = 0.08209789\n",
            "Iteration 30, loss = 0.07649168\n",
            "Iteration 31, loss = 0.07410898\n",
            "Iteration 32, loss = 0.07126869\n",
            "Iteration 33, loss = 0.06926956\n",
            "Iteration 34, loss = 0.06578496\n",
            "Iteration 35, loss = 0.06374913\n",
            "Iteration 36, loss = 0.06175492\n",
            "Iteration 37, loss = 0.05975664\n",
            "Iteration 38, loss = 0.05764485\n",
            "Iteration 39, loss = 0.05623663\n",
            "Iteration 40, loss = 0.05420966\n",
            "Iteration 41, loss = 0.05413911\n",
            "Iteration 42, loss = 0.05256140\n",
            "Iteration 43, loss = 0.05020265\n",
            "Iteration 44, loss = 0.04902779\n",
            "Iteration 45, loss = 0.04788382\n",
            "Iteration 46, loss = 0.04655532\n",
            "Iteration 47, loss = 0.04586089\n",
            "Iteration 48, loss = 0.04451758\n",
            "Iteration 49, loss = 0.04341598\n",
            "Iteration 50, loss = 0.04238096\n",
            "Iteration 51, loss = 0.04162200\n",
            "Iteration 52, loss = 0.04076839\n",
            "Iteration 53, loss = 0.04003180\n",
            "Iteration 54, loss = 0.03907774\n",
            "Iteration 55, loss = 0.03815565\n",
            "Iteration 56, loss = 0.03791975\n",
            "Iteration 57, loss = 0.03706276\n",
            "Iteration 58, loss = 0.03617874\n",
            "Iteration 59, loss = 0.03593227\n",
            "Iteration 60, loss = 0.03504175\n",
            "Iteration 61, loss = 0.03441259\n",
            "Iteration 62, loss = 0.03397449\n",
            "Iteration 63, loss = 0.03326990\n",
            "Iteration 64, loss = 0.03305025\n",
            "Iteration 65, loss = 0.03244893\n",
            "Iteration 66, loss = 0.03191504\n",
            "Iteration 67, loss = 0.03132169\n",
            "Iteration 68, loss = 0.03079707\n",
            "Iteration 69, loss = 0.03044946\n",
            "Iteration 70, loss = 0.03005546\n",
            "Iteration 71, loss = 0.02960555\n",
            "Iteration 72, loss = 0.02912799\n",
            "Iteration 73, loss = 0.02859103\n",
            "Iteration 74, loss = 0.02825959\n",
            "Iteration 75, loss = 0.02788968\n",
            "Iteration 76, loss = 0.02748725\n",
            "Iteration 77, loss = 0.02721247\n",
            "Iteration 78, loss = 0.02686225\n",
            "Iteration 79, loss = 0.02635636\n",
            "Iteration 80, loss = 0.02607439\n",
            "Iteration 81, loss = 0.02577613\n",
            "Iteration 82, loss = 0.02553642\n",
            "Iteration 83, loss = 0.02518749\n",
            "Iteration 84, loss = 0.02484300\n",
            "Iteration 85, loss = 0.02455379\n",
            "Iteration 86, loss = 0.02432480\n",
            "Iteration 87, loss = 0.02398548\n",
            "Iteration 88, loss = 0.02376004\n",
            "Iteration 89, loss = 0.02341261\n",
            "Iteration 90, loss = 0.02318255\n",
            "Iteration 91, loss = 0.02296065\n",
            "Iteration 92, loss = 0.02274048\n",
            "Iteration 93, loss = 0.02241054\n",
            "Iteration 94, loss = 0.02208181\n",
            "Iteration 95, loss = 0.02190861\n",
            "Iteration 96, loss = 0.02174404\n",
            "Iteration 97, loss = 0.02156939\n",
            "Iteration 98, loss = 0.02119768\n",
            "Iteration 99, loss = 0.02101874\n",
            "Iteration 100, loss = 0.02078230\n",
            "Iteration 101, loss = 0.02061573\n",
            "Iteration 102, loss = 0.02039802\n",
            "Iteration 103, loss = 0.02017245\n",
            "Iteration 104, loss = 0.01997162\n",
            "Iteration 105, loss = 0.01989280\n",
            "Iteration 106, loss = 0.01963828\n",
            "Iteration 107, loss = 0.01941850\n",
            "Iteration 108, loss = 0.01933154\n",
            "Iteration 109, loss = 0.01911473\n",
            "Iteration 110, loss = 0.01905371\n",
            "Iteration 111, loss = 0.01876085\n",
            "Iteration 112, loss = 0.01860656\n",
            "Iteration 113, loss = 0.01848655\n",
            "Iteration 114, loss = 0.01834844\n",
            "Iteration 115, loss = 0.01818981\n",
            "Iteration 116, loss = 0.01798523\n",
            "Iteration 117, loss = 0.01783630\n",
            "Iteration 118, loss = 0.01771441\n",
            "Iteration 119, loss = 0.01749814\n",
            "Iteration 120, loss = 0.01738339\n",
            "Iteration 121, loss = 0.01726549\n",
            "Iteration 122, loss = 0.01709638\n",
            "Iteration 123, loss = 0.01698340\n",
            "Iteration 124, loss = 0.01684606\n",
            "Iteration 125, loss = 0.01667016\n",
            "Iteration 126, loss = 0.01654172\n",
            "Iteration 127, loss = 0.01641832\n",
            "Iteration 128, loss = 0.01630111\n",
            "Iteration 129, loss = 0.01623051\n",
            "Iteration 130, loss = 0.01612736\n",
            "Iteration 131, loss = 0.01590220\n",
            "Iteration 132, loss = 0.01582485\n",
            "Iteration 133, loss = 0.01571372\n",
            "Iteration 134, loss = 0.01560349\n",
            "Iteration 135, loss = 0.01557688\n",
            "Iteration 136, loss = 0.01534420\n",
            "Iteration 137, loss = 0.01527883\n",
            "Iteration 138, loss = 0.01517545\n",
            "Iteration 139, loss = 0.01503663\n",
            "Iteration 140, loss = 0.01501192\n",
            "Iteration 141, loss = 0.01482535\n",
            "Iteration 142, loss = 0.01471388\n",
            "Iteration 143, loss = 0.01463948\n",
            "Iteration 144, loss = 0.01454059\n",
            "Iteration 145, loss = 0.01441742\n",
            "Iteration 146, loss = 0.01431741\n",
            "Iteration 147, loss = 0.01428414\n",
            "Iteration 148, loss = 0.01416364\n",
            "Iteration 149, loss = 0.01406742\n",
            "Iteration 150, loss = 0.01402651\n",
            "Iteration 151, loss = 0.01389720\n",
            "Iteration 152, loss = 0.01381412\n",
            "Iteration 153, loss = 0.01371300\n",
            "Iteration 154, loss = 0.01362465\n",
            "Iteration 155, loss = 0.01357048\n",
            "Iteration 156, loss = 0.01348760\n",
            "Iteration 157, loss = 0.01339543\n",
            "Iteration 158, loss = 0.01331941\n",
            "Iteration 159, loss = 0.01320812\n",
            "Iteration 160, loss = 0.01315415\n",
            "Iteration 161, loss = 0.01308279\n",
            "Iteration 162, loss = 0.01302708\n",
            "Iteration 163, loss = 0.01290042\n",
            "Iteration 164, loss = 0.01289267\n",
            "Iteration 165, loss = 0.01277558\n",
            "Iteration 166, loss = 0.01277238\n",
            "Iteration 167, loss = 0.01261308\n",
            "Iteration 168, loss = 0.01260611\n",
            "Iteration 169, loss = 0.01248789\n",
            "Iteration 170, loss = 0.01239662\n",
            "Iteration 171, loss = 0.01231743\n",
            "Iteration 172, loss = 0.01227346\n",
            "Iteration 173, loss = 0.01223136\n",
            "Iteration 174, loss = 0.01217211\n",
            "Iteration 175, loss = 0.01208682\n",
            "Iteration 176, loss = 0.01204707\n",
            "Iteration 177, loss = 0.01200225\n",
            "Iteration 178, loss = 0.01188677\n",
            "Iteration 179, loss = 0.01184993\n",
            "Iteration 180, loss = 0.01175130\n",
            "Iteration 181, loss = 0.01171178\n",
            "Iteration 182, loss = 0.01166052\n",
            "Iteration 183, loss = 0.01163843\n",
            "Iteration 184, loss = 0.01154892\n",
            "Iteration 185, loss = 0.01147629\n",
            "Iteration 186, loss = 0.01142365\n",
            "Iteration 187, loss = 0.01136608\n",
            "Iteration 188, loss = 0.01128053\n",
            "Iteration 189, loss = 0.01128869\n",
            "Training loss did not improve more than tol=0.000100 for 10 consecutive epochs. Stopping.\n"
          ]
        },
        {
          "output_type": "execute_result",
          "data": {
            "text/plain": [
              "MLPClassifier(activation='logistic', hidden_layer_sizes=(15,),\n",
              "              learning_rate_init=0.1, random_state=1, solver='sgd',\n",
              "              verbose=True)"
            ],
            "text/html": [
              "<style>#sk-container-id-1 {\n",
              "  /* Definition of color scheme common for light and dark mode */\n",
              "  --sklearn-color-text: black;\n",
              "  --sklearn-color-line: gray;\n",
              "  /* Definition of color scheme for unfitted estimators */\n",
              "  --sklearn-color-unfitted-level-0: #fff5e6;\n",
              "  --sklearn-color-unfitted-level-1: #f6e4d2;\n",
              "  --sklearn-color-unfitted-level-2: #ffe0b3;\n",
              "  --sklearn-color-unfitted-level-3: chocolate;\n",
              "  /* Definition of color scheme for fitted estimators */\n",
              "  --sklearn-color-fitted-level-0: #f0f8ff;\n",
              "  --sklearn-color-fitted-level-1: #d4ebff;\n",
              "  --sklearn-color-fitted-level-2: #b3dbfd;\n",
              "  --sklearn-color-fitted-level-3: cornflowerblue;\n",
              "\n",
              "  /* Specific color for light theme */\n",
              "  --sklearn-color-text-on-default-background: var(--sg-text-color, var(--theme-code-foreground, var(--jp-content-font-color1, black)));\n",
              "  --sklearn-color-background: var(--sg-background-color, var(--theme-background, var(--jp-layout-color0, white)));\n",
              "  --sklearn-color-border-box: var(--sg-text-color, var(--theme-code-foreground, var(--jp-content-font-color1, black)));\n",
              "  --sklearn-color-icon: #696969;\n",
              "\n",
              "  @media (prefers-color-scheme: dark) {\n",
              "    /* Redefinition of color scheme for dark theme */\n",
              "    --sklearn-color-text-on-default-background: var(--sg-text-color, var(--theme-code-foreground, var(--jp-content-font-color1, white)));\n",
              "    --sklearn-color-background: var(--sg-background-color, var(--theme-background, var(--jp-layout-color0, #111)));\n",
              "    --sklearn-color-border-box: var(--sg-text-color, var(--theme-code-foreground, var(--jp-content-font-color1, white)));\n",
              "    --sklearn-color-icon: #878787;\n",
              "  }\n",
              "}\n",
              "\n",
              "#sk-container-id-1 {\n",
              "  color: var(--sklearn-color-text);\n",
              "}\n",
              "\n",
              "#sk-container-id-1 pre {\n",
              "  padding: 0;\n",
              "}\n",
              "\n",
              "#sk-container-id-1 input.sk-hidden--visually {\n",
              "  border: 0;\n",
              "  clip: rect(1px 1px 1px 1px);\n",
              "  clip: rect(1px, 1px, 1px, 1px);\n",
              "  height: 1px;\n",
              "  margin: -1px;\n",
              "  overflow: hidden;\n",
              "  padding: 0;\n",
              "  position: absolute;\n",
              "  width: 1px;\n",
              "}\n",
              "\n",
              "#sk-container-id-1 div.sk-dashed-wrapped {\n",
              "  border: 1px dashed var(--sklearn-color-line);\n",
              "  margin: 0 0.4em 0.5em 0.4em;\n",
              "  box-sizing: border-box;\n",
              "  padding-bottom: 0.4em;\n",
              "  background-color: var(--sklearn-color-background);\n",
              "}\n",
              "\n",
              "#sk-container-id-1 div.sk-container {\n",
              "  /* jupyter's `normalize.less` sets `[hidden] { display: none; }`\n",
              "     but bootstrap.min.css set `[hidden] { display: none !important; }`\n",
              "     so we also need the `!important` here to be able to override the\n",
              "     default hidden behavior on the sphinx rendered scikit-learn.org.\n",
              "     See: https://github.com/scikit-learn/scikit-learn/issues/21755 */\n",
              "  display: inline-block !important;\n",
              "  position: relative;\n",
              "}\n",
              "\n",
              "#sk-container-id-1 div.sk-text-repr-fallback {\n",
              "  display: none;\n",
              "}\n",
              "\n",
              "div.sk-parallel-item,\n",
              "div.sk-serial,\n",
              "div.sk-item {\n",
              "  /* draw centered vertical line to link estimators */\n",
              "  background-image: linear-gradient(var(--sklearn-color-text-on-default-background), var(--sklearn-color-text-on-default-background));\n",
              "  background-size: 2px 100%;\n",
              "  background-repeat: no-repeat;\n",
              "  background-position: center center;\n",
              "}\n",
              "\n",
              "/* Parallel-specific style estimator block */\n",
              "\n",
              "#sk-container-id-1 div.sk-parallel-item::after {\n",
              "  content: \"\";\n",
              "  width: 100%;\n",
              "  border-bottom: 2px solid var(--sklearn-color-text-on-default-background);\n",
              "  flex-grow: 1;\n",
              "}\n",
              "\n",
              "#sk-container-id-1 div.sk-parallel {\n",
              "  display: flex;\n",
              "  align-items: stretch;\n",
              "  justify-content: center;\n",
              "  background-color: var(--sklearn-color-background);\n",
              "  position: relative;\n",
              "}\n",
              "\n",
              "#sk-container-id-1 div.sk-parallel-item {\n",
              "  display: flex;\n",
              "  flex-direction: column;\n",
              "}\n",
              "\n",
              "#sk-container-id-1 div.sk-parallel-item:first-child::after {\n",
              "  align-self: flex-end;\n",
              "  width: 50%;\n",
              "}\n",
              "\n",
              "#sk-container-id-1 div.sk-parallel-item:last-child::after {\n",
              "  align-self: flex-start;\n",
              "  width: 50%;\n",
              "}\n",
              "\n",
              "#sk-container-id-1 div.sk-parallel-item:only-child::after {\n",
              "  width: 0;\n",
              "}\n",
              "\n",
              "/* Serial-specific style estimator block */\n",
              "\n",
              "#sk-container-id-1 div.sk-serial {\n",
              "  display: flex;\n",
              "  flex-direction: column;\n",
              "  align-items: center;\n",
              "  background-color: var(--sklearn-color-background);\n",
              "  padding-right: 1em;\n",
              "  padding-left: 1em;\n",
              "}\n",
              "\n",
              "\n",
              "/* Toggleable style: style used for estimator/Pipeline/ColumnTransformer box that is\n",
              "clickable and can be expanded/collapsed.\n",
              "- Pipeline and ColumnTransformer use this feature and define the default style\n",
              "- Estimators will overwrite some part of the style using the `sk-estimator` class\n",
              "*/\n",
              "\n",
              "/* Pipeline and ColumnTransformer style (default) */\n",
              "\n",
              "#sk-container-id-1 div.sk-toggleable {\n",
              "  /* Default theme specific background. It is overwritten whether we have a\n",
              "  specific estimator or a Pipeline/ColumnTransformer */\n",
              "  background-color: var(--sklearn-color-background);\n",
              "}\n",
              "\n",
              "/* Toggleable label */\n",
              "#sk-container-id-1 label.sk-toggleable__label {\n",
              "  cursor: pointer;\n",
              "  display: block;\n",
              "  width: 100%;\n",
              "  margin-bottom: 0;\n",
              "  padding: 0.5em;\n",
              "  box-sizing: border-box;\n",
              "  text-align: center;\n",
              "}\n",
              "\n",
              "#sk-container-id-1 label.sk-toggleable__label-arrow:before {\n",
              "  /* Arrow on the left of the label */\n",
              "  content: \"▸\";\n",
              "  float: left;\n",
              "  margin-right: 0.25em;\n",
              "  color: var(--sklearn-color-icon);\n",
              "}\n",
              "\n",
              "#sk-container-id-1 label.sk-toggleable__label-arrow:hover:before {\n",
              "  color: var(--sklearn-color-text);\n",
              "}\n",
              "\n",
              "/* Toggleable content - dropdown */\n",
              "\n",
              "#sk-container-id-1 div.sk-toggleable__content {\n",
              "  max-height: 0;\n",
              "  max-width: 0;\n",
              "  overflow: hidden;\n",
              "  text-align: left;\n",
              "  /* unfitted */\n",
              "  background-color: var(--sklearn-color-unfitted-level-0);\n",
              "}\n",
              "\n",
              "#sk-container-id-1 div.sk-toggleable__content.fitted {\n",
              "  /* fitted */\n",
              "  background-color: var(--sklearn-color-fitted-level-0);\n",
              "}\n",
              "\n",
              "#sk-container-id-1 div.sk-toggleable__content pre {\n",
              "  margin: 0.2em;\n",
              "  border-radius: 0.25em;\n",
              "  color: var(--sklearn-color-text);\n",
              "  /* unfitted */\n",
              "  background-color: var(--sklearn-color-unfitted-level-0);\n",
              "}\n",
              "\n",
              "#sk-container-id-1 div.sk-toggleable__content.fitted pre {\n",
              "  /* unfitted */\n",
              "  background-color: var(--sklearn-color-fitted-level-0);\n",
              "}\n",
              "\n",
              "#sk-container-id-1 input.sk-toggleable__control:checked~div.sk-toggleable__content {\n",
              "  /* Expand drop-down */\n",
              "  max-height: 200px;\n",
              "  max-width: 100%;\n",
              "  overflow: auto;\n",
              "}\n",
              "\n",
              "#sk-container-id-1 input.sk-toggleable__control:checked~label.sk-toggleable__label-arrow:before {\n",
              "  content: \"▾\";\n",
              "}\n",
              "\n",
              "/* Pipeline/ColumnTransformer-specific style */\n",
              "\n",
              "#sk-container-id-1 div.sk-label input.sk-toggleable__control:checked~label.sk-toggleable__label {\n",
              "  color: var(--sklearn-color-text);\n",
              "  background-color: var(--sklearn-color-unfitted-level-2);\n",
              "}\n",
              "\n",
              "#sk-container-id-1 div.sk-label.fitted input.sk-toggleable__control:checked~label.sk-toggleable__label {\n",
              "  background-color: var(--sklearn-color-fitted-level-2);\n",
              "}\n",
              "\n",
              "/* Estimator-specific style */\n",
              "\n",
              "/* Colorize estimator box */\n",
              "#sk-container-id-1 div.sk-estimator input.sk-toggleable__control:checked~label.sk-toggleable__label {\n",
              "  /* unfitted */\n",
              "  background-color: var(--sklearn-color-unfitted-level-2);\n",
              "}\n",
              "\n",
              "#sk-container-id-1 div.sk-estimator.fitted input.sk-toggleable__control:checked~label.sk-toggleable__label {\n",
              "  /* fitted */\n",
              "  background-color: var(--sklearn-color-fitted-level-2);\n",
              "}\n",
              "\n",
              "#sk-container-id-1 div.sk-label label.sk-toggleable__label,\n",
              "#sk-container-id-1 div.sk-label label {\n",
              "  /* The background is the default theme color */\n",
              "  color: var(--sklearn-color-text-on-default-background);\n",
              "}\n",
              "\n",
              "/* On hover, darken the color of the background */\n",
              "#sk-container-id-1 div.sk-label:hover label.sk-toggleable__label {\n",
              "  color: var(--sklearn-color-text);\n",
              "  background-color: var(--sklearn-color-unfitted-level-2);\n",
              "}\n",
              "\n",
              "/* Label box, darken color on hover, fitted */\n",
              "#sk-container-id-1 div.sk-label.fitted:hover label.sk-toggleable__label.fitted {\n",
              "  color: var(--sklearn-color-text);\n",
              "  background-color: var(--sklearn-color-fitted-level-2);\n",
              "}\n",
              "\n",
              "/* Estimator label */\n",
              "\n",
              "#sk-container-id-1 div.sk-label label {\n",
              "  font-family: monospace;\n",
              "  font-weight: bold;\n",
              "  display: inline-block;\n",
              "  line-height: 1.2em;\n",
              "}\n",
              "\n",
              "#sk-container-id-1 div.sk-label-container {\n",
              "  text-align: center;\n",
              "}\n",
              "\n",
              "/* Estimator-specific */\n",
              "#sk-container-id-1 div.sk-estimator {\n",
              "  font-family: monospace;\n",
              "  border: 1px dotted var(--sklearn-color-border-box);\n",
              "  border-radius: 0.25em;\n",
              "  box-sizing: border-box;\n",
              "  margin-bottom: 0.5em;\n",
              "  /* unfitted */\n",
              "  background-color: var(--sklearn-color-unfitted-level-0);\n",
              "}\n",
              "\n",
              "#sk-container-id-1 div.sk-estimator.fitted {\n",
              "  /* fitted */\n",
              "  background-color: var(--sklearn-color-fitted-level-0);\n",
              "}\n",
              "\n",
              "/* on hover */\n",
              "#sk-container-id-1 div.sk-estimator:hover {\n",
              "  /* unfitted */\n",
              "  background-color: var(--sklearn-color-unfitted-level-2);\n",
              "}\n",
              "\n",
              "#sk-container-id-1 div.sk-estimator.fitted:hover {\n",
              "  /* fitted */\n",
              "  background-color: var(--sklearn-color-fitted-level-2);\n",
              "}\n",
              "\n",
              "/* Specification for estimator info (e.g. \"i\" and \"?\") */\n",
              "\n",
              "/* Common style for \"i\" and \"?\" */\n",
              "\n",
              ".sk-estimator-doc-link,\n",
              "a:link.sk-estimator-doc-link,\n",
              "a:visited.sk-estimator-doc-link {\n",
              "  float: right;\n",
              "  font-size: smaller;\n",
              "  line-height: 1em;\n",
              "  font-family: monospace;\n",
              "  background-color: var(--sklearn-color-background);\n",
              "  border-radius: 1em;\n",
              "  height: 1em;\n",
              "  width: 1em;\n",
              "  text-decoration: none !important;\n",
              "  margin-left: 1ex;\n",
              "  /* unfitted */\n",
              "  border: var(--sklearn-color-unfitted-level-1) 1pt solid;\n",
              "  color: var(--sklearn-color-unfitted-level-1);\n",
              "}\n",
              "\n",
              ".sk-estimator-doc-link.fitted,\n",
              "a:link.sk-estimator-doc-link.fitted,\n",
              "a:visited.sk-estimator-doc-link.fitted {\n",
              "  /* fitted */\n",
              "  border: var(--sklearn-color-fitted-level-1) 1pt solid;\n",
              "  color: var(--sklearn-color-fitted-level-1);\n",
              "}\n",
              "\n",
              "/* On hover */\n",
              "div.sk-estimator:hover .sk-estimator-doc-link:hover,\n",
              ".sk-estimator-doc-link:hover,\n",
              "div.sk-label-container:hover .sk-estimator-doc-link:hover,\n",
              ".sk-estimator-doc-link:hover {\n",
              "  /* unfitted */\n",
              "  background-color: var(--sklearn-color-unfitted-level-3);\n",
              "  color: var(--sklearn-color-background);\n",
              "  text-decoration: none;\n",
              "}\n",
              "\n",
              "div.sk-estimator.fitted:hover .sk-estimator-doc-link.fitted:hover,\n",
              ".sk-estimator-doc-link.fitted:hover,\n",
              "div.sk-label-container:hover .sk-estimator-doc-link.fitted:hover,\n",
              ".sk-estimator-doc-link.fitted:hover {\n",
              "  /* fitted */\n",
              "  background-color: var(--sklearn-color-fitted-level-3);\n",
              "  color: var(--sklearn-color-background);\n",
              "  text-decoration: none;\n",
              "}\n",
              "\n",
              "/* Span, style for the box shown on hovering the info icon */\n",
              ".sk-estimator-doc-link span {\n",
              "  display: none;\n",
              "  z-index: 9999;\n",
              "  position: relative;\n",
              "  font-weight: normal;\n",
              "  right: .2ex;\n",
              "  padding: .5ex;\n",
              "  margin: .5ex;\n",
              "  width: min-content;\n",
              "  min-width: 20ex;\n",
              "  max-width: 50ex;\n",
              "  color: var(--sklearn-color-text);\n",
              "  box-shadow: 2pt 2pt 4pt #999;\n",
              "  /* unfitted */\n",
              "  background: var(--sklearn-color-unfitted-level-0);\n",
              "  border: .5pt solid var(--sklearn-color-unfitted-level-3);\n",
              "}\n",
              "\n",
              ".sk-estimator-doc-link.fitted span {\n",
              "  /* fitted */\n",
              "  background: var(--sklearn-color-fitted-level-0);\n",
              "  border: var(--sklearn-color-fitted-level-3);\n",
              "}\n",
              "\n",
              ".sk-estimator-doc-link:hover span {\n",
              "  display: block;\n",
              "}\n",
              "\n",
              "/* \"?\"-specific style due to the `<a>` HTML tag */\n",
              "\n",
              "#sk-container-id-1 a.estimator_doc_link {\n",
              "  float: right;\n",
              "  font-size: 1rem;\n",
              "  line-height: 1em;\n",
              "  font-family: monospace;\n",
              "  background-color: var(--sklearn-color-background);\n",
              "  border-radius: 1rem;\n",
              "  height: 1rem;\n",
              "  width: 1rem;\n",
              "  text-decoration: none;\n",
              "  /* unfitted */\n",
              "  color: var(--sklearn-color-unfitted-level-1);\n",
              "  border: var(--sklearn-color-unfitted-level-1) 1pt solid;\n",
              "}\n",
              "\n",
              "#sk-container-id-1 a.estimator_doc_link.fitted {\n",
              "  /* fitted */\n",
              "  border: var(--sklearn-color-fitted-level-1) 1pt solid;\n",
              "  color: var(--sklearn-color-fitted-level-1);\n",
              "}\n",
              "\n",
              "/* On hover */\n",
              "#sk-container-id-1 a.estimator_doc_link:hover {\n",
              "  /* unfitted */\n",
              "  background-color: var(--sklearn-color-unfitted-level-3);\n",
              "  color: var(--sklearn-color-background);\n",
              "  text-decoration: none;\n",
              "}\n",
              "\n",
              "#sk-container-id-1 a.estimator_doc_link.fitted:hover {\n",
              "  /* fitted */\n",
              "  background-color: var(--sklearn-color-fitted-level-3);\n",
              "}\n",
              "</style><div id=\"sk-container-id-1\" class=\"sk-top-container\"><div class=\"sk-text-repr-fallback\"><pre>MLPClassifier(activation=&#x27;logistic&#x27;, hidden_layer_sizes=(15,),\n",
              "              learning_rate_init=0.1, random_state=1, solver=&#x27;sgd&#x27;,\n",
              "              verbose=True)</pre><b>In a Jupyter environment, please rerun this cell to show the HTML representation or trust the notebook. <br />On GitHub, the HTML representation is unable to render, please try loading this page with nbviewer.org.</b></div><div class=\"sk-container\" hidden><div class=\"sk-item\"><div class=\"sk-estimator fitted sk-toggleable\"><input class=\"sk-toggleable__control sk-hidden--visually\" id=\"sk-estimator-id-1\" type=\"checkbox\" checked><label for=\"sk-estimator-id-1\" class=\"sk-toggleable__label fitted sk-toggleable__label-arrow fitted\">&nbsp;&nbsp;MLPClassifier<a class=\"sk-estimator-doc-link fitted\" rel=\"noreferrer\" target=\"_blank\" href=\"https://scikit-learn.org/1.5/modules/generated/sklearn.neural_network.MLPClassifier.html\">?<span>Documentation for MLPClassifier</span></a><span class=\"sk-estimator-doc-link fitted\">i<span>Fitted</span></span></label><div class=\"sk-toggleable__content fitted\"><pre>MLPClassifier(activation=&#x27;logistic&#x27;, hidden_layer_sizes=(15,),\n",
              "              learning_rate_init=0.1, random_state=1, solver=&#x27;sgd&#x27;,\n",
              "              verbose=True)</pre></div> </div></div></div></div>"
            ]
          },
          "metadata": {},
          "execution_count": 46
        }
      ]
    },
    {
      "cell_type": "code",
      "source": [
        "plt.subplots(1,1)\n",
        "plt.plot(mlp.loss_curve_)\n",
        "plt.title('Loss Curve')\n",
        "plt.xlabel('Iterations')\n",
        "plt.ylabel('Loss')\n",
        "plt.show()\n"
      ],
      "metadata": {
        "colab": {
          "base_uri": "https://localhost:8080/",
          "height": 472
        },
        "id": "1QEtOHXuBvme",
        "outputId": "1ca74d25-ecbf-4470-afff-54534b110ee2"
      },
      "execution_count": 51,
      "outputs": [
        {
          "output_type": "display_data",
          "data": {
            "text/plain": [
              "<Figure size 640x480 with 1 Axes>"
            ],
            "image/png": "[encoded data removed]"
          },
          "metadata": {}
        }
      ]
    },
    {
      "cell_type": "markdown",
      "source": [
        "**Step 4**: Model Evaluation"
      ],
      "metadata": {
        "id": "oD99yodqOp8v"
      }
    },
    {
      "cell_type": "code",
      "source": [
        "predictions = mlp.predict(testset)\n",
        "print(predictions[:5])"
      ],
      "metadata": {
        "colab": {
          "base_uri": "https://localhost:8080/"
        },
        "id": "Y44HDvanCBca",
        "outputId": "6a2a0b95-8b66-4026-c83c-87229a690648"
      },
      "execution_count": 54,
      "outputs": [
        {
          "output_type": "stream",
          "name": "stdout",
          "text": [
            "[1 4 0 5 3]\n"
          ]
        }
      ]
    },
    {
      "cell_type": "code",
      "source": [
        "accuracy_score(testlabel, predictions)"
      ],
      "metadata": {
        "colab": {
          "base_uri": "https://localhost:8080/"
        },
        "id": "U7HTn4tkC3WL",
        "outputId": "c4c0668e-96a8-4898-bfed-dc05c875e055"
      },
      "execution_count": 56,
      "outputs": [
        {
          "output_type": "execute_result",
          "data": {
            "text/plain": [
              "0.9146800501882058"
            ]
          },
          "metadata": {},
          "execution_count": 56
        }
      ]
    }
  ]
}